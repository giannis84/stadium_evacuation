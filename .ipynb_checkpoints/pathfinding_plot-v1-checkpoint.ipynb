{
 "cells": [
  {
   "cell_type": "code",
   "execution_count": 181,
   "metadata": {},
   "outputs": [
    {
     "name": "stdout",
     "output_type": "stream",
     "text": [
      "Project: Stadium evacuation simulation.\n"
     ]
    }
   ],
   "source": [
    "# SIMULATIONS OF COMPLEX SYSTEMS\n",
    "# 2020 Project: Simulation of stadium evacuation\n",
    "# Collaborators: Alfred Bergsten, Giannis Kostaras, Mohammad Zoubi, Andreas Spetz\n",
    "\n",
    "import numpy as np\n",
    "import random\n",
    "import matplotlib.pyplot as plt\n",
    "import matplotlib.cm as cm\n",
    "import stadium\n",
    "import templates\n",
    "\n",
    "\n",
    "def print_info(name):\n",
    "    print(f'Project: {name}')  # Press Ctrl+F8 to toggle the breakpoint.\n",
    "\n",
    "class agent:\n",
    "  def __init__(self, tag, x, y):\n",
    "    self.tag = tag\n",
    "    self.x = x\n",
    "    self.y = y\n",
    "    #self.moved = 0\n",
    "    \n",
    "def initiate_agents_test(grid):\n",
    "    return [agent(0, 266, 178), agent(1, 266, 180), agent(2, 63, 80)]\n",
    "\n",
    "def initiate_agents_random(grid, p):\n",
    "    n = 0\n",
    "    agent_list = []\n",
    "    x_dim = grid.shape[0]\n",
    "    y_dim = grid.shape[1]    \n",
    "    for x in range(x_dim):\n",
    "        for y in range(y_dim):\n",
    "            if grid[x][y] == 3:\n",
    "                if random.random() <= p:\n",
    "                    a = agent(n, x, y)\n",
    "                    agent_list.append(a)\n",
    "                    n += 1\n",
    "    return agent_list\n",
    "                \n",
    "    \n",
    "    \n",
    "def visualize(grid, agents):\n",
    "    grid_to_plot = 0\n",
    "    grid_to_plot = grid\n",
    "    for a in agents:\n",
    "        #print(a.x,a.y)\n",
    "        grid_to_plot[a.x][a.y] = 8\n",
    "    plt.figure(figsize = (12,12))\n",
    "    plt.imshow(grid_to_plot, interpolation='nearest', cmap='cividis')\n",
    "    plt.show()\n",
    "    \n",
    "def move_agent(grid, agents, ag):  # moves one agent by one time step\n",
    "    x_dim = grid.shape[0]\n",
    "    y_dim = grid.shape[1]\n",
    "    gate_x = []\n",
    "    gate_y = []\n",
    "    gate = []\n",
    "    grid_saved = grid\n",
    "    for x in range(x_dim):  # find the gates\n",
    "        for y in range(y_dim):\n",
    "            if grid[x][y] == 2:\n",
    "                gate_x.append(x)\n",
    "                gate_y.append(y)\n",
    "                gate.append([x,y])\n",
    "    gate_distances = []  # find the nearest gate to the agent\n",
    "    for g in gate:\n",
    "        gate_distances.append(abs(ag.x-g[0])+abs(ag.y-g[1]))\n",
    "    nearest_gate = gate[gate_distances.index(min(gate_distances))]  # this is the nearest gate to the agent\n",
    "    for a in agents:  # designate the occupied positions by other agents to avoid collisions\n",
    "        grid_saved[a.x][a.y] = 8\n",
    "    if (ag.x < nearest_gate[0]) and (grid_saved[ag.x+1][ag.y]==3):\n",
    "        ag.x += 1\n",
    "        grid_saved[ag.x][ag.y] = 8\n",
    "        grid_saved[ag.x-1][ag.y] = 3\n",
    "    if (ag.x > nearest_gate[0]) and (grid_saved[ag.x-1][ag.y]==3):\n",
    "        ag.x -= 1\n",
    "        grid_saved[ag.x][ag.y] = 8\n",
    "        grid_saved[ag.x+1][ag.y] = 3\n",
    "    if (ag.y < nearest_gate[1]) and (grid_saved[ag.x][ag.y+1]==3):\n",
    "        agent.y += 1\n",
    "        grid_saved[ag.x][ag.y] = 8\n",
    "        grid_saved[ag.x][ag.y-1] = 3\n",
    "    if (ag.y > nearest_gate[1]) and (grid_saved[ag.x][ag.y-1]==3):\n",
    "        ag.y -= 1\n",
    "        grid_saved[ag.x][ag.y] = 8\n",
    "        grid_saved[ag.x][ag.y+1] = 3\n",
    "    if (abs(ag.x - nearest_gate[0]) <= 1) and (abs(ag.y - nearest_gate[1]) <= 1):\n",
    "        agents.pop(agents.index(ag))\n",
    "        grid_saved[ag.x][ag.y] = 3\n",
    "        \n",
    "    \n",
    "\n",
    "\n",
    "                    \n",
    "# Press the green button in the gutter to run the script.\n",
    "if __name__ == '__main__':\n",
    "    print_info('Stadium evacuation simulation.')\n",
    "    stadium_outline = templates.big_stadium()\n",
    "    stadium_big = stadium.create_stadium(stadium_outline)\n",
    "    stadium_big[0][0] = 8  # color reference point in visualization\n",
    "    agents = []\n",
    "    #agents = initiate_agents_test(stadium_big)\n",
    "    agents = initiate_agents_random(stadium_big, 0.01)"
   ]
  },
  {
   "cell_type": "code",
   "execution_count": 182,
   "metadata": {},
   "outputs": [
    {
     "name": "stdout",
     "output_type": "stream",
     "text": [
      "Number of agents in stadium:  270  at time =  0\n",
      "Number of agents in stadium:  268  at time =  1\n",
      "Number of agents in stadium:  267  at time =  2\n",
      "Number of agents in stadium:  267  at time =  3\n",
      "Number of agents in stadium:  267  at time =  4\n",
      "Number of agents in stadium:  265  at time =  5\n",
      "Number of agents in stadium:  265  at time =  6\n",
      "Number of agents in stadium:  264  at time =  7\n",
      "Number of agents in stadium:  264  at time =  8\n",
      "Number of agents in stadium:  264  at time =  9\n",
      "Number of agents in stadium:  263  at time =  10\n",
      "Number of agents in stadium:  262  at time =  11\n",
      "Number of agents in stadium:  262  at time =  12\n",
      "Number of agents in stadium:  261  at time =  13\n"
     ]
    },
    {
     "ename": "KeyboardInterrupt",
     "evalue": "",
     "output_type": "error",
     "traceback": [
      "\u001b[1;31m---------------------------------------------------------------------------\u001b[0m",
      "\u001b[1;31mKeyboardInterrupt\u001b[0m                         Traceback (most recent call last)",
      "\u001b[1;32m<ipython-input-182-ba8c6dc2aeba>\u001b[0m in \u001b[0;36m<module>\u001b[1;34m\u001b[0m\n\u001b[0;32m      2\u001b[0m     \u001b[0mprint\u001b[0m\u001b[1;33m(\u001b[0m\u001b[1;34m'Number of agents in stadium: '\u001b[0m\u001b[1;33m,\u001b[0m \u001b[0mlen\u001b[0m\u001b[1;33m(\u001b[0m\u001b[0magents\u001b[0m\u001b[1;33m)\u001b[0m\u001b[1;33m,\u001b[0m \u001b[1;34m' at time = '\u001b[0m\u001b[1;33m,\u001b[0m \u001b[0mi\u001b[0m\u001b[1;33m)\u001b[0m\u001b[1;33m\u001b[0m\u001b[1;33m\u001b[0m\u001b[0m\n\u001b[0;32m      3\u001b[0m     \u001b[1;32mfor\u001b[0m \u001b[0magent\u001b[0m \u001b[1;32min\u001b[0m \u001b[0magents\u001b[0m\u001b[1;33m:\u001b[0m\u001b[1;33m\u001b[0m\u001b[1;33m\u001b[0m\u001b[0m\n\u001b[1;32m----> 4\u001b[1;33m         \u001b[0mmove_agent\u001b[0m\u001b[1;33m(\u001b[0m\u001b[0mstadium_big\u001b[0m\u001b[1;33m,\u001b[0m \u001b[0magents\u001b[0m\u001b[1;33m,\u001b[0m \u001b[0magent\u001b[0m\u001b[1;33m)\u001b[0m\u001b[1;33m\u001b[0m\u001b[1;33m\u001b[0m\u001b[0m\n\u001b[0m\u001b[0;32m      5\u001b[0m \u001b[1;33m\u001b[0m\u001b[0m\n\u001b[0;32m      6\u001b[0m \u001b[1;31m#visualize(stadium_big, agents)\u001b[0m\u001b[1;33m\u001b[0m\u001b[1;33m\u001b[0m\u001b[1;33m\u001b[0m\u001b[0m\n",
      "\u001b[1;32m<ipython-input-181-534a46dd8b26>\u001b[0m in \u001b[0;36mmove_agent\u001b[1;34m(grid, agents, ag)\u001b[0m\n\u001b[0;32m     59\u001b[0m     \u001b[1;32mfor\u001b[0m \u001b[0mx\u001b[0m \u001b[1;32min\u001b[0m \u001b[0mrange\u001b[0m\u001b[1;33m(\u001b[0m\u001b[0mx_dim\u001b[0m\u001b[1;33m)\u001b[0m\u001b[1;33m:\u001b[0m  \u001b[1;31m# find the gates\u001b[0m\u001b[1;33m\u001b[0m\u001b[1;33m\u001b[0m\u001b[0m\n\u001b[0;32m     60\u001b[0m         \u001b[1;32mfor\u001b[0m \u001b[0my\u001b[0m \u001b[1;32min\u001b[0m \u001b[0mrange\u001b[0m\u001b[1;33m(\u001b[0m\u001b[0my_dim\u001b[0m\u001b[1;33m)\u001b[0m\u001b[1;33m:\u001b[0m\u001b[1;33m\u001b[0m\u001b[1;33m\u001b[0m\u001b[0m\n\u001b[1;32m---> 61\u001b[1;33m             \u001b[1;32mif\u001b[0m \u001b[0mgrid\u001b[0m\u001b[1;33m[\u001b[0m\u001b[0mx\u001b[0m\u001b[1;33m]\u001b[0m\u001b[1;33m[\u001b[0m\u001b[0my\u001b[0m\u001b[1;33m]\u001b[0m \u001b[1;33m==\u001b[0m \u001b[1;36m2\u001b[0m\u001b[1;33m:\u001b[0m\u001b[1;33m\u001b[0m\u001b[1;33m\u001b[0m\u001b[0m\n\u001b[0m\u001b[0;32m     62\u001b[0m                 \u001b[0mgate_x\u001b[0m\u001b[1;33m.\u001b[0m\u001b[0mappend\u001b[0m\u001b[1;33m(\u001b[0m\u001b[0mx\u001b[0m\u001b[1;33m)\u001b[0m\u001b[1;33m\u001b[0m\u001b[1;33m\u001b[0m\u001b[0m\n\u001b[0;32m     63\u001b[0m                 \u001b[0mgate_y\u001b[0m\u001b[1;33m.\u001b[0m\u001b[0mappend\u001b[0m\u001b[1;33m(\u001b[0m\u001b[0my\u001b[0m\u001b[1;33m)\u001b[0m\u001b[1;33m\u001b[0m\u001b[1;33m\u001b[0m\u001b[0m\n",
      "\u001b[1;31mKeyboardInterrupt\u001b[0m: "
     ]
    }
   ],
   "source": [
    "for i in range(100):\n",
    "    print('Number of agents in stadium: ', len(agents), ' at time = ', i)\n",
    "    for agent in agents:\n",
    "        move_agent(stadium_big, agents, agent)\n",
    "    \n",
    "#visualize(stadium_big, agents)"
   ]
  },
  {
   "cell_type": "code",
   "execution_count": null,
   "metadata": {},
   "outputs": [],
   "source": []
  }
 ],
 "metadata": {
  "kernelspec": {
   "display_name": "Python 3",
   "language": "python",
   "name": "python3"
  },
  "language_info": {
   "codemirror_mode": {
    "name": "ipython",
    "version": 3
   },
   "file_extension": ".py",
   "mimetype": "text/x-python",
   "name": "python",
   "nbconvert_exporter": "python",
   "pygments_lexer": "ipython3",
   "version": "3.7.9"
  }
 },
 "nbformat": 4,
 "nbformat_minor": 4
}
