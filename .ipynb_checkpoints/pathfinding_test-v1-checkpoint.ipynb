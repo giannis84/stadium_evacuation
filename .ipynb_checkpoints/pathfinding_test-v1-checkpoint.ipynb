{
 "cells": [
  {
   "cell_type": "code",
   "execution_count": null,
   "metadata": {},
   "outputs": [],
   "source": [
    "# SIMULATIONS OF COMPLEX SYSTEMS\n",
    "# 2020 Project: Simulation of stadium evacuation\n",
    "# Collaborators: Alfred Bergsten, Giannis Kostaras, Mohammad Zoubi, Andreas Spetz\n",
    "\n",
    "import numpy as np\n",
    "import random\n",
    "import matplotlib.pyplot as plt\n",
    "\n",
    "import stadium\n",
    "import templates\n",
    "\n",
    "\n",
    "def print_info(name):\n",
    "    print(f'Project: {name}')  # Press Ctrl+F8 to toggle the breakpoint.\n",
    "\n",
    "\n",
    "\n",
    "\n",
    "class agent:\n",
    "  def __init__(self, tag, x, y):\n",
    "    self.tag = tag\n",
    "    self.x = x\n",
    "    self.y = y\n",
    "    self.moved = 0\n",
    "    \n",
    "def initiate_agents_test(grid):\n",
    "    return agent(0, 266, 179)\n",
    "    \n",
    "def visualize(grid, agents):\n",
    "    grid_to_plot = 0\n",
    "    grid_to_plot = grid\n",
    "    for agent in agents:\n",
    "        print(agent.x,agent.y)\n",
    "        grid_to_plot[agent.x][agent.y] = 8\n",
    "    plt.figure(figsize = (16,16))\n",
    "    plt.imshow(grid_to_plot, interpolation='nearest')\n",
    "    plt.show()\n",
    "    \n",
    "def move_agent(grid, agents, agent):  # moves one agent by one time step\n",
    "    x_dim = grid.shape[0]\n",
    "    y_dim = grid.shape[1]\n",
    "    gate_x = []\n",
    "    gate_y = []\n",
    "    gate = []\n",
    "    grid_saved = grid\n",
    "    for x in range(x_dim):  # find the gates\n",
    "        for y in range(y_dim):\n",
    "            if grid[x][y] == 2:\n",
    "                gate_x.append(x)\n",
    "                gate_y.append(y)\n",
    "                gate.append([x,y])\n",
    "    gate_distances = []  # find the nearest gate to the agent\n",
    "    for g in gate:\n",
    "        gate_distances.append(abs(agent.x-g[0])+abs(agent.y-g[1]))\n",
    "    nearest_gate = gate[gate_distances.index(min(gate_distances))]  # this is the nearest gate to the agent\n",
    "    for a in agents:  # designate the occupied positions by other agents to avoid collisions\n",
    "        grid_saved[a.x][a.y] = 8\n",
    "    if (agent.x < nearest_gate[0]) and (grid_saved[agent.x+1][agent.y]==3):\n",
    "        agent.x += 1\n",
    "    if (agent.x > nearest_gate[0]) and (grid_saved[agent.x-1][agent.y]==3):\n",
    "        agent.x -= 1\n",
    "    if (agent.y < nearest_gate[1]) and (grid_saved[agent.x][agent.y+1]==3):\n",
    "        agent.y += 1\n",
    "    if (agent.y > nearest_gate[1]) and (grid_saved[agent.x][agent.y-1]==3):\n",
    "        agent.y -= 1\n",
    "        \n",
    "    \n",
    "\n",
    "\n",
    "                    \n",
    "# Press the green button in the gutter to run the script.\n",
    "if __name__ == '__main__':\n",
    "    print_info('Stadium evacuation simulation.')\n",
    "    stadium_outline = templates.big_stadium()\n",
    "    stadium_big = stadium.create_stadium(stadium_outline)\n",
    "    agents = []\n",
    "    agents.append(initiate_agents_test(stadium_big))"
   ]
  },
  {
   "cell_type": "code",
   "execution_count": null,
   "metadata": {},
   "outputs": [],
   "source": [
    "visualize(stadium_big, agents)"
   ]
  },
  {
   "cell_type": "code",
   "execution_count": null,
   "metadata": {},
   "outputs": [],
   "source": [
    "move_agent(stadium_big, agents, agents[0])\n",
    "visualize(stadium_big, agents)"
   ]
  },
  {
   "cell_type": "code",
   "execution_count": null,
   "metadata": {},
   "outputs": [],
   "source": []
  }
 ],
 "metadata": {
  "kernelspec": {
   "display_name": "Python 3",
   "language": "python",
   "name": "python3"
  },
  "language_info": {
   "codemirror_mode": {
    "name": "ipython",
    "version": 3
   },
   "file_extension": ".py",
   "mimetype": "text/x-python",
   "name": "python",
   "nbconvert_exporter": "python",
   "pygments_lexer": "ipython3",
   "version": "3.7.9"
  }
 },
 "nbformat": 4,
 "nbformat_minor": 4
}
