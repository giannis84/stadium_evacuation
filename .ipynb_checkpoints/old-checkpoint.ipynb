{
 "cells": [
  {
   "cell_type": "code",
   "execution_count": 494,
   "metadata": {},
   "outputs": [
    {
     "name": "stdout",
     "output_type": "stream",
     "text": [
      "Project: Stadium evacuation simulation.\n",
      "Number of agents:  2\n"
     ]
    }
   ],
   "source": [
    "# SIMULATIONS OF COMPLEX SYSTEMS\n",
    "# 2020 Project: Simulation of stadium evacuation\n",
    "# Collaborators: Alfred Bergsten, Giannis Kostaras, Mohammad Zoubi, Andreas Spetz\n",
    "\n",
    "import numpy as np\n",
    "import random\n",
    "import matplotlib.pyplot as plt\n",
    "\n",
    "import stadium\n",
    "import templates\n",
    "\n",
    "\n",
    "def print_info(name):\n",
    "    print(f'Project: {name}')  # Press Ctrl+F8 to toggle the breakpoint.\n",
    "\n",
    "def visualize(grid):\n",
    "    plt.figure(figsize = (16,16))\n",
    "    plt.imshow(grid, interpolation='nearest')\n",
    "    plt.show()\n",
    "\n",
    "\n",
    "class agent:\n",
    "  def __init__(self, tag, x, y, moved):\n",
    "    self.tag = tag\n",
    "    self.x = x\n",
    "    self.y = y\n",
    "    self.moved = moved\n",
    "    \n",
    "def initiate_agents(grid, probability):\n",
    "    x_dim = grid.shape[0]\n",
    "    y_dim = grid.shape[1]\n",
    "    for x in range(x_dim):\n",
    "        for y in range(y_dim):\n",
    "            if grid[x][y] == 3:\n",
    "                if random.random() <= probability:\n",
    "                    grid[x][y] = 8\n",
    "\n",
    "def initiate_agents_test(grid):\n",
    "    grid[266, 179] = 8\n",
    "    grid[94, 346] = 8\n",
    "    \n",
    "def count_agents(grid):\n",
    "    x_dim = grid.shape[0]\n",
    "    y_dim = grid.shape[1]\n",
    "    result = 0\n",
    "    for x in range(x_dim):\n",
    "        for y in range(y_dim):\n",
    "            if grid[x][y] == 8:\n",
    "                result += 1\n",
    "    return result\n",
    "\n",
    "def move_agents(grid):\n",
    "    x_dim = grid.shape[0]\n",
    "    y_dim = grid.shape[1]\n",
    "    gate_x = []\n",
    "    gate_y = []\n",
    "    gate = []\n",
    "    for x in range(x_dim):  # find the gates\n",
    "        for y in range(y_dim):\n",
    "            if grid[x][y] == 2:\n",
    "                gate_x.append(x)\n",
    "                gate_y.append(y)\n",
    "                gate.append([x,y])\n",
    "    grid_previous = grid\n",
    "    for x in range(x_dim):  \n",
    "        for y in range(y_dim):\n",
    "            if grid[x][y] == 8:  # find the agents in the grid\n",
    "                gate_distances = []  # find the nearest gate to the agent\n",
    "                for g in gate:\n",
    "                    gate_distances.append(abs(x-g[0])+abs(y-g[1]))\n",
    "                nearest_gate = gate[gate_distances.index(min(gate_distances))]  # this is the nearest gate to the agent\n",
    "                print(x,y,grid_previous[x][y])  \n",
    "                if (x < nearest_gate[0]) and (grid[x+1][y]==3) and (grid_previous[x][y] == 8): # move the agent to the nearest gate\n",
    "                    grid[x][y]=3\n",
    "                    grid[x+1][y]=8\n",
    "                if (y < nearest_gate[1]) and (grid[x][y+1]==3) and (grid_previous[x][y] == 8):\n",
    "                    grid[x][y]=3\n",
    "                    grid[x][y+1]=8\n",
    "                if (x > nearest_gate[0]) and (grid[x-1][y]==3) and (grid_previous[x][y] == 8):\n",
    "                    grid[x][y]=3\n",
    "                    grid[x-1][y]=8\n",
    "                if (y > nearest_gate[1]) and (grid[x][y-1]==3) and (grid_previous[x][y] == 8):\n",
    "                    grid[x][y]=3\n",
    "                    grid[x][y-1]=8\n",
    "                    \n",
    "                \n",
    "\n",
    "                    \n",
    "# Press the green button in the gutter to run the script.\n",
    "if __name__ == '__main__':\n",
    "    print_info('Stadium evacuation simulation.')\n",
    "#    stadium1 = stadium.create_stadium(templates.test_template)\n",
    "#    initiate_agents(stadium, 0.01)\n",
    "#    initiate_agents_test(stadium1)\n",
    "#    visualize(stadium1)\n",
    "    stadium_outline = templates.big_stadium()\n",
    "    stadium_big = stadium.create_stadium(stadium_outline)\n",
    "    initiate_agents_test(stadium_big)\n",
    "    #initiate_agents(stadium_big, 0.001)\n",
    "    print('Number of agents: ', count_agents(stadium_big))"
   ]
  },
  {
   "cell_type": "code",
   "execution_count": 498,
   "metadata": {},
   "outputs": [
    {
     "name": "stdout",
     "output_type": "stream",
     "text": [
      "91 346 8.0\n",
      "266 176 8.0\n",
      "267 176 8.0\n",
      "268 176 8.0\n",
      "269 176 8.0\n",
      "270 176 8.0\n",
      "271 176 8.0\n",
      "272 176 8.0\n",
      "273 176 8.0\n",
      "274 176 8.0\n"
     ]
    },
    {
     "data": {
      "image/png": "[encoded data removed]",
      "text/plain": [
       "<Figure size 1152x1152 with 1 Axes>"
      ]
     },
     "metadata": {
      "needs_background": "light"
     },
     "output_type": "display_data"
    }
   ],
   "source": [
    "move_agents(stadium_big)\n",
    "visualize(stadium_big[240:280,150:200])"
   ]
  },
  {
   "cell_type": "code",
   "execution_count": null,
   "metadata": {},
   "outputs": [],
   "source": []
  }
 ],
 "metadata": {
  "kernelspec": {
   "display_name": "Python 3",
   "language": "python",
   "name": "python3"
  },
  "language_info": {
   "codemirror_mode": {
    "name": "ipython",
    "version": 3
   },
   "file_extension": ".py",
   "mimetype": "text/x-python",
   "name": "python",
   "nbconvert_exporter": "python",
   "pygments_lexer": "ipython3",
   "version": "3.7.9"
  }
 },
 "nbformat": 4,
 "nbformat_minor": 4
}
