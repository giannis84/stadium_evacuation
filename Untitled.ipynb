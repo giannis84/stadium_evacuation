{
 "cells": [
  {
   "cell_type": "code",
   "execution_count": 107,
   "metadata": {},
   "outputs": [
    {
     "name": "stdout",
     "output_type": "stream",
     "text": [
      "Project: Stadium evacuation simulation.\n"
     ]
    },
    {
     "data": {
      "image/png": "[encoded data removed]",
      "text/plain": [
       "<Figure size 432x288 with 1 Axes>"
      ]
     },
     "metadata": {
      "needs_background": "light"
     },
     "output_type": "display_data"
    }
   ],
   "source": [
    "# SIMULATIONS OF COMPLEX SYSTEMS\n",
    "# 2020 Project: Simulation of stadium evacuation\n",
    "# Collaborators: Alfred Bergsten, Giannis Kostaras, Mohammad Zoubi, Andreas Spetz\n",
    "\n",
    "import numpy as np\n",
    "import random\n",
    "import matplotlib.pyplot as plt\n",
    "\n",
    "import stadium\n",
    "import templates\n",
    "\n",
    "\n",
    "def print_info(name):\n",
    "    print(f'Project: {name}')  # Press Ctrl+F8 to toggle the breakpoint.\n",
    "\n",
    "\n",
    "def visualize(grid):\n",
    "    plt.imshow(grid, interpolation='nearest')\n",
    "    plt.show()\n",
    "\n",
    "def initiate_agents(grid, probability):\n",
    "    x_dim = grid.shape[0]\n",
    "    y_dim = grid.shape[1]\n",
    "    for x in range(x_dim):\n",
    "        for y in range(y_dim):\n",
    "            if grid[x][y] == 3:\n",
    "                if random.random() <= probability:\n",
    "                    grid[x][y] = 8\n",
    "\n",
    "def initiate_agents_test(grid):\n",
    "    grid[25][25] = 8\n",
    "    grid[21][13] = 8\n",
    "\n",
    "def move_agents(grid):\n",
    "    x_dim = grid.shape[0]\n",
    "    y_dim = grid.shape[1]\n",
    "    gate_x = []\n",
    "    gate_y = []\n",
    "    for x in range(x_dim):\n",
    "        for y in range(y_dim):\n",
    "            if grid[x][y] == 2:\n",
    "                gate_x.append(x)\n",
    "                gate_y.append(y)\n",
    "    old_x = 0\n",
    "    old_y = 0\n",
    "    new_x = 0\n",
    "    new_y = 0\n",
    "    for x in range(x_dim):\n",
    "        for y in range(y_dim):\n",
    "            if grid[x][y] == 8:\n",
    "                if grid[x][y-1] == 2:\n",
    "                    grid[x][y] = 3\n",
    "                    break\n",
    "                if (x > max(gate_x)) and (grid[x-1][y] != 1) and (grid[x-1][y] != 8) and (y > max(gate_y)) and (grid[x][y-1] != 1) and (grid[x][y-1] != 8):\n",
    "                    grid[x][y] = 3\n",
    "                    grid[x-1][y-1] = 8\n",
    "                if (x > max(gate_x)) and (grid[x-1][y] != 1) and (grid[x-1][y] != 8) and (y < min(gate_y)) and (grid[x][y+1] != 1) and (grid[x][y+1] != 8):\n",
    "                    grid[x][y] = 3\n",
    "                    grid[x-1][y+1] = 8\n",
    "                if (x < max(gate_x)) and (grid[x+1][y] != 1) and (grid[x+1][y] != 8) and (y > max(gate_y)) and (grid[x][y-1] != 1) and (grid[x][y-1] != 8):\n",
    "                    grid[x][y] = 3\n",
    "                    grid[x+1][y-1] = 8                    \n",
    "                if (x < max(gate_x)) and (grid[x+1][y] != 1) and (grid[x+1][y] != 8) and (y < min(gate_y)) and (grid[x][y+1] != 1) and (grid[x][y+1] != 8):\n",
    "                    grid[x][y] = 3\n",
    "                    grid[x+1][y+1] = 8\n",
    "                if (y > max(gate_y)) and (x in gate_x) and (grid[x][y-1] != 8):\n",
    "                    grid[x][y] = 3\n",
    "                    grid[x][y-1] = 8\n",
    "\n",
    "\n",
    "                    \n",
    "# Press the green button in the gutter to run the script.\n",
    "if __name__ == '__main__':\n",
    "    print_info('Stadium evacuation simulation.')\n",
    "    stadium = stadium.create_stadium(templates.test_template)\n",
    "#    initiate_agents(stadium, 0.01)\n",
    "    initiate_agents_test(stadium)\n",
    "    visualize(stadium)\n"
   ]
  },
  {
   "cell_type": "code",
   "execution_count": 124,
   "metadata": {},
   "outputs": [
    {
     "data": {
      "image/png": "[encoded data removed]",
      "text/plain": [
       "<Figure size 432x288 with 1 Axes>"
      ]
     },
     "metadata": {
      "needs_background": "light"
     },
     "output_type": "display_data"
    }
   ],
   "source": [
    "move_agents(stadium)\n",
    "visualize(stadium)\n"
   ]
  },
  {
   "cell_type": "code",
   "execution_count": null,
   "metadata": {},
   "outputs": [],
   "source": []
  }
 ],
 "metadata": {
  "kernelspec": {
   "display_name": "Python 3",
   "language": "python",
   "name": "python3"
  },
  "language_info": {
   "codemirror_mode": {
    "name": "ipython",
    "version": 3
   },
   "file_extension": ".py",
   "mimetype": "text/x-python",
   "name": "python",
   "nbconvert_exporter": "python",
   "pygments_lexer": "ipython3",
   "version": "3.7.9"
  }
 },
 "nbformat": 4,
 "nbformat_minor": 4
}
